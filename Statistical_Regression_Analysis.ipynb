{
  "nbformat": 4,
  "nbformat_minor": 0,
  "metadata": {
    "colab": {
      "provenance": []
    },
    "kernelspec": {
      "name": "python3",
      "display_name": "Python 3"
    },
    "language_info": {
      "name": "python"
    }
  },
  "cells": [
    {
      "cell_type": "markdown",
      "source": [
        "## Import Packages and Load Dataset"
      ],
      "metadata": {
        "id": "qI924bvO9QPj"
      }
    },
    {
      "cell_type": "code",
      "source": [
        "# For data manipulation\n",
        "import pandas as pd \n",
        "import numpy as np\n",
        "\n",
        "# For data visualization\n",
        "import matplotlib.pyplot as plt \n",
        "import seaborn as sns\n",
        "\n",
        "# Relevant models and tools\n",
        "from sklearn.preprocessing import StandardScaler\n",
        "from sklearn.linear_model import ElasticNet, Lasso, Ridge\n",
        "from sklearn.metrics import mean_squared_error # Calculate MSE (cost function)\n",
        "from sklearn.model_selection import train_test_split\n",
        "from sklearn.svm import SVR\n",
        "%matplotlib inline\n",
        "\n",
        "# Load data\n",
        "df = pd.read_csv('winequality-red.csv')\n",
        "\n",
        "# Show shape of data\n",
        "print(f'Shape of dataset (rows, columns): {df.shape}')\n",
        "\n",
        "df.head()"
      ],
      "metadata": {
        "colab": {
          "base_uri": "https://localhost:8080/",
          "height": 302
        },
        "id": "-sdBKRGS9XXm",
        "outputId": "301f2367-5288-4e00-88c5-5960ba407917"
      },
      "execution_count": null,
      "outputs": [
        {
          "output_type": "stream",
          "name": "stdout",
          "text": [
            "Shape of dataset (rows, columns): (1599, 12)\n"
          ]
        },
        {
          "output_type": "execute_result",
          "data": {
            "text/plain": [
              "   fixed acidity  volatile acidity  citric acid  residual sugar  chlorides  \\\n",
              "0            7.4              0.70         0.00             1.9      0.076   \n",
              "1            7.8              0.88         0.00             2.6      0.098   \n",
              "2            7.8              0.76         0.04             2.3      0.092   \n",
              "3           11.2              0.28         0.56             1.9      0.075   \n",
              "4            7.4              0.70         0.00             1.9      0.076   \n",
              "\n",
              "   free sulfur dioxide  total sulfur dioxide  density    pH  sulphates  \\\n",
              "0                 11.0                  34.0   0.9978  3.51       0.56   \n",
              "1                 25.0                  67.0   0.9968  3.20       0.68   \n",
              "2                 15.0                  54.0   0.9970  3.26       0.65   \n",
              "3                 17.0                  60.0   0.9980  3.16       0.58   \n",
              "4                 11.0                  34.0   0.9978  3.51       0.56   \n",
              "\n",
              "   alcohol  quality  \n",
              "0      9.4        5  \n",
              "1      9.8        5  \n",
              "2      9.8        5  \n",
              "3      9.8        6  \n",
              "4      9.4        5  "
            ],
            "text/html": [
              "\n",
              "  <div id=\"df-c965cbad-7231-4210-959a-d281fb149d70\">\n",
              "    <div class=\"colab-df-container\">\n",
              "      <div>\n",
              "<style scoped>\n",
              "    .dataframe tbody tr th:only-of-type {\n",
              "        vertical-align: middle;\n",
              "    }\n",
              "\n",
              "    .dataframe tbody tr th {\n",
              "        vertical-align: top;\n",
              "    }\n",
              "\n",
              "    .dataframe thead th {\n",
              "        text-align: right;\n",
              "    }\n",
              "</style>\n",
              "<table border=\"1\" class=\"dataframe\">\n",
              "  <thead>\n",
              "    <tr style=\"text-align: right;\">\n",
              "      <th></th>\n",
              "      <th>fixed acidity</th>\n",
              "      <th>volatile acidity</th>\n",
              "      <th>citric acid</th>\n",
              "      <th>residual sugar</th>\n",
              "      <th>chlorides</th>\n",
              "      <th>free sulfur dioxide</th>\n",
              "      <th>total sulfur dioxide</th>\n",
              "      <th>density</th>\n",
              "      <th>pH</th>\n",
              "      <th>sulphates</th>\n",
              "      <th>alcohol</th>\n",
              "      <th>quality</th>\n",
              "    </tr>\n",
              "  </thead>\n",
              "  <tbody>\n",
              "    <tr>\n",
              "      <th>0</th>\n",
              "      <td>7.4</td>\n",
              "      <td>0.70</td>\n",
              "      <td>0.00</td>\n",
              "      <td>1.9</td>\n",
              "      <td>0.076</td>\n",
              "      <td>11.0</td>\n",
              "      <td>34.0</td>\n",
              "      <td>0.9978</td>\n",
              "      <td>3.51</td>\n",
              "      <td>0.56</td>\n",
              "      <td>9.4</td>\n",
              "      <td>5</td>\n",
              "    </tr>\n",
              "    <tr>\n",
              "      <th>1</th>\n",
              "      <td>7.8</td>\n",
              "      <td>0.88</td>\n",
              "      <td>0.00</td>\n",
              "      <td>2.6</td>\n",
              "      <td>0.098</td>\n",
              "      <td>25.0</td>\n",
              "      <td>67.0</td>\n",
              "      <td>0.9968</td>\n",
              "      <td>3.20</td>\n",
              "      <td>0.68</td>\n",
              "      <td>9.8</td>\n",
              "      <td>5</td>\n",
              "    </tr>\n",
              "    <tr>\n",
              "      <th>2</th>\n",
              "      <td>7.8</td>\n",
              "      <td>0.76</td>\n",
              "      <td>0.04</td>\n",
              "      <td>2.3</td>\n",
              "      <td>0.092</td>\n",
              "      <td>15.0</td>\n",
              "      <td>54.0</td>\n",
              "      <td>0.9970</td>\n",
              "      <td>3.26</td>\n",
              "      <td>0.65</td>\n",
              "      <td>9.8</td>\n",
              "      <td>5</td>\n",
              "    </tr>\n",
              "    <tr>\n",
              "      <th>3</th>\n",
              "      <td>11.2</td>\n",
              "      <td>0.28</td>\n",
              "      <td>0.56</td>\n",
              "      <td>1.9</td>\n",
              "      <td>0.075</td>\n",
              "      <td>17.0</td>\n",
              "      <td>60.0</td>\n",
              "      <td>0.9980</td>\n",
              "      <td>3.16</td>\n",
              "      <td>0.58</td>\n",
              "      <td>9.8</td>\n",
              "      <td>6</td>\n",
              "    </tr>\n",
              "    <tr>\n",
              "      <th>4</th>\n",
              "      <td>7.4</td>\n",
              "      <td>0.70</td>\n",
              "      <td>0.00</td>\n",
              "      <td>1.9</td>\n",
              "      <td>0.076</td>\n",
              "      <td>11.0</td>\n",
              "      <td>34.0</td>\n",
              "      <td>0.9978</td>\n",
              "      <td>3.51</td>\n",
              "      <td>0.56</td>\n",
              "      <td>9.4</td>\n",
              "      <td>5</td>\n",
              "    </tr>\n",
              "  </tbody>\n",
              "</table>\n",
              "</div>\n",
              "      <button class=\"colab-df-convert\" onclick=\"convertToInteractive('df-c965cbad-7231-4210-959a-d281fb149d70')\"\n",
              "              title=\"Convert this dataframe to an interactive table.\"\n",
              "              style=\"display:none;\">\n",
              "        \n",
              "  <svg xmlns=\"http://www.w3.org/2000/svg\" height=\"24px\"viewBox=\"0 0 24 24\"\n",
              "       width=\"24px\">\n",
              "    <path d=\"M0 0h24v24H0V0z\" fill=\"none\"/>\n",
              "    <path d=\"M18.56 5.44l.94 2.06.94-2.06 2.06-.94-2.06-.94-.94-2.06-.94 2.06-2.06.94zm-11 1L8.5 8.5l.94-2.06 2.06-.94-2.06-.94L8.5 2.5l-.94 2.06-2.06.94zm10 10l.94 2.06.94-2.06 2.06-.94-2.06-.94-.94-2.06-.94 2.06-2.06.94z\"/><path d=\"M17.41 7.96l-1.37-1.37c-.4-.4-.92-.59-1.43-.59-.52 0-1.04.2-1.43.59L10.3 9.45l-7.72 7.72c-.78.78-.78 2.05 0 2.83L4 21.41c.39.39.9.59 1.41.59.51 0 1.02-.2 1.41-.59l7.78-7.78 2.81-2.81c.8-.78.8-2.07 0-2.86zM5.41 20L4 18.59l7.72-7.72 1.47 1.35L5.41 20z\"/>\n",
              "  </svg>\n",
              "      </button>\n",
              "      \n",
              "  <style>\n",
              "    .colab-df-container {\n",
              "      display:flex;\n",
              "      flex-wrap:wrap;\n",
              "      gap: 12px;\n",
              "    }\n",
              "\n",
              "    .colab-df-convert {\n",
              "      background-color: #E8F0FE;\n",
              "      border: none;\n",
              "      border-radius: 50%;\n",
              "      cursor: pointer;\n",
              "      display: none;\n",
              "      fill: #1967D2;\n",
              "      height: 32px;\n",
              "      padding: 0 0 0 0;\n",
              "      width: 32px;\n",
              "    }\n",
              "\n",
              "    .colab-df-convert:hover {\n",
              "      background-color: #E2EBFA;\n",
              "      box-shadow: 0px 1px 2px rgba(60, 64, 67, 0.3), 0px 1px 3px 1px rgba(60, 64, 67, 0.15);\n",
              "      fill: #174EA6;\n",
              "    }\n",
              "\n",
              "    [theme=dark] .colab-df-convert {\n",
              "      background-color: #3B4455;\n",
              "      fill: #D2E3FC;\n",
              "    }\n",
              "\n",
              "    [theme=dark] .colab-df-convert:hover {\n",
              "      background-color: #434B5C;\n",
              "      box-shadow: 0px 1px 3px 1px rgba(0, 0, 0, 0.15);\n",
              "      filter: drop-shadow(0px 1px 2px rgba(0, 0, 0, 0.3));\n",
              "      fill: #FFFFFF;\n",
              "    }\n",
              "  </style>\n",
              "\n",
              "      <script>\n",
              "        const buttonEl =\n",
              "          document.querySelector('#df-c965cbad-7231-4210-959a-d281fb149d70 button.colab-df-convert');\n",
              "        buttonEl.style.display =\n",
              "          google.colab.kernel.accessAllowed ? 'block' : 'none';\n",
              "\n",
              "        async function convertToInteractive(key) {\n",
              "          const element = document.querySelector('#df-c965cbad-7231-4210-959a-d281fb149d70');\n",
              "          const dataTable =\n",
              "            await google.colab.kernel.invokeFunction('convertToInteractive',\n",
              "                                                     [key], {});\n",
              "          if (!dataTable) return;\n",
              "\n",
              "          const docLinkHtml = 'Like what you see? Visit the ' +\n",
              "            '<a target=\"_blank\" href=https://colab.research.google.com/notebooks/data_table.ipynb>data table notebook</a>'\n",
              "            + ' to learn more about interactive tables.';\n",
              "          element.innerHTML = '';\n",
              "          dataTable['output_type'] = 'display_data';\n",
              "          await google.colab.output.renderOutput(dataTable, element);\n",
              "          const docLink = document.createElement('div');\n",
              "          docLink.innerHTML = docLinkHtml;\n",
              "          element.appendChild(docLink);\n",
              "        }\n",
              "      </script>\n",
              "    </div>\n",
              "  </div>\n",
              "  "
            ]
          },
          "metadata": {},
          "execution_count": 3
        }
      ]
    },
    {
      "cell_type": "markdown",
      "source": [
        "## Data Visualization and Preprocessing"
      ],
      "metadata": {
        "id": "0K6g_EFD-170"
      }
    },
    {
      "cell_type": "code",
      "source": [
        "# Check for missing values\n",
        "print(f'\\nNumber of null values in each column: \\n{df.isnull().sum()}\\n') # apparently, there are no null values in the dataset.\n",
        "\n",
        "plt.figure(figsize=(8,7))\n",
        "sns.countplot(x=\"quality\", data=df)  \n",
        "plt.title(\"WINE QUALITY\",fontsize=14)\n",
        "plt.show()\n",
        "\n",
        "# Split data into features and output variable\n",
        "data_X = df.drop(['quality'], axis=1).values\n",
        "data_y = df['quality'].values "
      ],
      "metadata": {
        "colab": {
          "base_uri": "https://localhost:8080/",
          "height": 737
        },
        "id": "_BhHmY4W-6jV",
        "outputId": "188a6e29-67df-4222-8679-ed33da05544f"
      },
      "execution_count": null,
      "outputs": [
        {
          "output_type": "stream",
          "name": "stdout",
          "text": [
            "\n",
            "Number of null values in each column: \n",
            "fixed acidity           0\n",
            "volatile acidity        0\n",
            "citric acid             0\n",
            "residual sugar          0\n",
            "chlorides               0\n",
            "free sulfur dioxide     0\n",
            "total sulfur dioxide    0\n",
            "density                 0\n",
            "pH                      0\n",
            "sulphates               0\n",
            "alcohol                 0\n",
            "quality                 0\n",
            "dtype: int64\n",
            "\n"
          ]
        },
        {
          "output_type": "display_data",
          "data": {
            "text/plain": [
              "<Figure size 576x504 with 1 Axes>"
            ],
            "image/png": "[encoded data removed]"
          },
          "metadata": {
            "needs_background": "light"
          }
        }
      ]
    },
    {
      "cell_type": "markdown",
      "source": [
        "## Split Dataset and Feature Scaling"
      ],
      "metadata": {
        "id": "SYy7v3lTCQ0S"
      }
    },
    {
      "cell_type": "code",
      "source": [
        "# Split dataset\n",
        "X_train, X_test, y_train, y_test = train_test_split(data_X, data_y, test_size=.20, random_state=42)\n",
        "\n",
        "# Perform feature scaling using standardization\n",
        "scaler = StandardScaler().fit(X_train)\n",
        "X_train_normalized = scaler.transform(X_train)\n",
        "X_test_normalized = scaler.transform(X_test)\n",
        "\n",
        "# Plot coefficients\n",
        "def plot_errors(lambdas, train_errors, test_errors, title):\n",
        "  plt.figure(figsize=(14, 8))\n",
        "  plt.plot(lambdas, train_errors, label=\"train\")\n",
        "  plt.plot(lambdas, test_errors, label=\"test\")\n",
        "  plt.xlabel(\"$\\\\lambda$\", fontsize=14)\n",
        "  plt.ylabel(\"MSE\", fontsize=14)\n",
        "  plt.title(title, fontsize=20)\n",
        "  plt.legend(fontsize=14)\n",
        "  plt.show()"
      ],
      "metadata": {
        "id": "dqrqWtCVClCE"
      },
      "execution_count": null,
      "outputs": []
    },
    {
      "cell_type": "markdown",
      "source": [
        "## Linear Regression with Lasso (L1) Regularization"
      ],
      "metadata": {
        "id": "EYU91-moY3-k"
      }
    },
    {
      "cell_type": "code",
      "source": [
        "def lasso_model(lambdas):\n",
        "  training_errors = [] # we will store the error on the training set, for using each different lambda\n",
        "  testing_errors = [] # and the error on the testing set\n",
        "\n",
        "  for l in lambdas:\n",
        "    # in sklearn, they refer to lambda as alpha, the name is different in different literature\n",
        "    # Model is Lasso\n",
        "    model = Lasso(alpha=l, max_iter=1000) # we allow max number of iterations until the model converges\n",
        "    model.fit(X_train_normalized, y_train)\n",
        "\n",
        "    training_predictions = model.predict(X_train_normalized)\n",
        "    training_mse = mean_squared_error(y_train, training_predictions)\n",
        "    training_errors.append(training_mse)\n",
        "\n",
        "    testing_predictions = model.predict(X_test_normalized)\n",
        "    testing_mse = mean_squared_error(y_test, testing_predictions)\n",
        "    testing_errors.append(testing_mse)\n",
        "\n",
        "    print(f'Coefficient when alpha is {l}: {model.coef_}\\n')\n",
        "\n",
        "  return training_errors, testing_errors\n",
        "\n",
        "# let's generate different values for lambda/alpha\n",
        "lambdas = np.arange(0.01, 1.0, step=0.1)\n",
        "\n",
        "lasso_train, lasso_test = lasso_model(lambdas)\n",
        "plot_errors(lambdas, lasso_train, lasso_test, \"Lasso (L1)\")"
      ],
      "metadata": {
        "colab": {
          "base_uri": "https://localhost:8080/",
          "height": 940
        },
        "id": "uR9QZLqXZAZd",
        "outputId": "9e4ffde5-24b0-45ee-f2cb-a8c3a75f020a"
      },
      "execution_count": null,
      "outputs": [
        {
          "output_type": "stream",
          "name": "stdout",
          "text": [
            "Coefficient when alpha is 0.01: [ 0.00989776 -0.17148147 -0.          0.         -0.07748588  0.03095668\n",
            " -0.09541456 -0.         -0.04895099  0.13129167  0.29799921]\n",
            "\n",
            "Coefficient when alpha is 0.11: [ 0.         -0.13799039  0.         -0.         -0.         -0.\n",
            " -0.         -0.         -0.          0.02553106  0.23974954]\n",
            "\n",
            "Coefficient when alpha is 0.21000000000000002: [ 0.         -0.06192225  0.         -0.         -0.         -0.\n",
            " -0.         -0.         -0.          0.          0.15823808]\n",
            "\n",
            "Coefficient when alpha is 0.31000000000000005: [ 0.         -0.          0.          0.         -0.         -0.\n",
            " -0.         -0.         -0.          0.          0.07125747]\n",
            "\n",
            "Coefficient when alpha is 0.41000000000000003: [ 0. -0.  0.  0. -0. -0. -0. -0. -0.  0.  0.]\n",
            "\n",
            "Coefficient when alpha is 0.51: [ 0. -0.  0.  0. -0. -0. -0. -0. -0.  0.  0.]\n",
            "\n",
            "Coefficient when alpha is 0.6100000000000001: [ 0. -0.  0.  0. -0. -0. -0. -0. -0.  0.  0.]\n",
            "\n",
            "Coefficient when alpha is 0.7100000000000001: [ 0. -0.  0.  0. -0. -0. -0. -0. -0.  0.  0.]\n",
            "\n",
            "Coefficient when alpha is 0.81: [ 0. -0.  0.  0. -0. -0. -0. -0. -0.  0.  0.]\n",
            "\n",
            "Coefficient when alpha is 0.91: [ 0. -0.  0.  0. -0. -0. -0. -0. -0.  0.  0.]\n",
            "\n"
          ]
        },
        {
          "output_type": "display_data",
          "data": {
            "text/plain": [
              "<Figure size 1008x576 with 1 Axes>"
            ],
            "image/png": "[encoded data removed]"
          },
          "metadata": {
            "needs_background": "light"
          }
        }
      ]
    },
    {
      "cell_type": "markdown",
      "source": [
        "## Linear Regression with Ridge (L2) Regularization"
      ],
      "metadata": {
        "id": "aFekLLm8IGE_"
      }
    },
    {
      "cell_type": "code",
      "source": [
        "def ridge_model(lambdas):\n",
        "  training_errors = [] # we will store the error on the training set, for using each different lambda\n",
        "  testing_errors = [] # and the error on the testing set\n",
        "\n",
        "  for l in lambdas:\n",
        "    # in sklearn, they refer to lambda as alpha, the name is different in different literature\n",
        "    # Model is Ridge or ElasticNet\n",
        "    model = Ridge(alpha=l, max_iter=1000) # we allow max number of iterations until the model converges\n",
        "    model.fit(X_train_normalized, y_train)\n",
        "\n",
        "    training_predictions = model.predict(X_train_normalized)\n",
        "    training_mse = mean_squared_error(y_train, training_predictions)\n",
        "    training_errors.append(training_mse)\n",
        "\n",
        "    testing_predictions = model.predict(X_test_normalized)\n",
        "    testing_mse = mean_squared_error(y_test, testing_predictions)\n",
        "    testing_errors.append(testing_mse)\n",
        "\n",
        "    print(f'Coefficient when alpha is {l}: {model.coef_}\\n')\n",
        "\n",
        "  return training_errors, testing_errors\n",
        "\n",
        "# let's generate different values for lambda/alpha\n",
        "lambdas = np.arange(0, 3, step=0.1)\n",
        "\n",
        "ridge_train, ridge_test = ridge_model(lambdas)\n",
        "plot_errors(lambdas, ridge_train, ridge_test, \"Ridge (L2)\")"
      ],
      "metadata": {
        "colab": {
          "base_uri": "https://localhost:8080/",
          "height": 1000
        },
        "id": "lVnCPJHPIN0i",
        "outputId": "b4922eac-c42c-43da-fa66-fd78e82c53a4"
      },
      "execution_count": null,
      "outputs": [
        {
          "output_type": "stream",
          "name": "stdout",
          "text": [
            "Coefficient when alpha is 0.0: [ 0.03978916 -0.17943891 -0.02751248  0.00942128 -0.08908432  0.05801491\n",
            " -0.12000836 -0.01920444 -0.06061037  0.14681503  0.2966275 ]\n",
            "\n",
            "Coefficient when alpha is 0.1: [ 0.03983442 -0.1794197  -0.02748327  0.00943953 -0.08907851  0.05799717\n",
            " -0.11999273 -0.01926563 -0.06056708  0.1468123   0.2965719 ]\n",
            "\n",
            "Coefficient when alpha is 0.2: [ 0.03987953 -0.17940051 -0.02745408  0.00945773 -0.08907272  0.05797944\n",
            " -0.11997713 -0.01932668 -0.06052387  0.14680955  0.29651638]\n",
            "\n",
            "Coefficient when alpha is 0.30000000000000004: [ 0.0399245  -0.17938133 -0.02742489  0.00947588 -0.08906693  0.05796173\n",
            " -0.11996154 -0.01938758 -0.06048076  0.14680679  0.29646095]\n",
            "\n",
            "Coefficient when alpha is 0.4: [ 0.03996932 -0.17936217 -0.02739571  0.00949398 -0.08906114  0.05794404\n",
            " -0.11994597 -0.01944833 -0.06043773  0.146804    0.29640562]\n",
            "\n",
            "Coefficient when alpha is 0.5: [ 0.040014   -0.17934302 -0.02736653  0.00951203 -0.08905537  0.05792636\n",
            " -0.11993041 -0.01950894 -0.06039479  0.1468012   0.29635036]\n",
            "\n",
            "Coefficient when alpha is 0.6000000000000001: [ 0.04005853 -0.17932388 -0.02733737  0.00953003 -0.0890496   0.0579087\n",
            " -0.11991487 -0.01956941 -0.06035194  0.14679838  0.2962952 ]\n",
            "\n",
            "Coefficient when alpha is 0.7000000000000001: [ 0.04010291 -0.17930475 -0.02730821  0.00954798 -0.08904383  0.05789105\n",
            " -0.11989935 -0.01962973 -0.06030918  0.14679553  0.29624012]\n",
            "\n",
            "Coefficient when alpha is 0.8: [ 0.04014716 -0.17928563 -0.02727907  0.00956588 -0.08903808  0.05787342\n",
            " -0.11988384 -0.01968991 -0.06026651  0.14679267  0.29618513]\n",
            "\n",
            "Coefficient when alpha is 0.9: [ 0.04019126 -0.17926653 -0.02724993  0.00958374 -0.08903233  0.05785581\n",
            " -0.11986835 -0.01974994 -0.06022393  0.14678979  0.29613022]\n",
            "\n",
            "Coefficient when alpha is 1.0: [ 0.04023522 -0.17924744 -0.0272208   0.00960154 -0.08902658  0.05783821\n",
            " -0.11985287 -0.01980983 -0.06018143  0.14678689  0.29607541]\n",
            "\n",
            "Coefficient when alpha is 1.1: [ 0.04027904 -0.17922836 -0.02719168  0.0096193  -0.08902085  0.05782063\n",
            " -0.11983741 -0.01986958 -0.06013902  0.14678398  0.29602067]\n",
            "\n",
            "Coefficient when alpha is 1.2000000000000002: [ 0.04032272 -0.17920929 -0.02716257  0.00963701 -0.08901512  0.05780307\n",
            " -0.11982197 -0.01992919 -0.0600967   0.14678104  0.29596603]\n",
            "\n",
            "Coefficient when alpha is 1.3: [ 0.04036625 -0.17919024 -0.02713346  0.00965467 -0.08900939  0.05778552\n",
            " -0.11980654 -0.01998866 -0.06005446  0.14677809  0.29591146]\n",
            "\n",
            "Coefficient when alpha is 1.4000000000000001: [ 0.04040965 -0.1791712  -0.02710437  0.00967228 -0.08900367  0.05776799\n",
            " -0.11979113 -0.02004799 -0.06001231  0.14677512  0.29585699]\n",
            "\n",
            "Coefficient when alpha is 1.5: [ 0.04045291 -0.17915217 -0.02707528  0.00968985 -0.08899796  0.05775047\n",
            " -0.11977573 -0.02010717 -0.05997025  0.14677212  0.2958026 ]\n",
            "\n",
            "Coefficient when alpha is 1.6: [ 0.04049603 -0.17913315 -0.02704621  0.00970737 -0.08899226  0.05773297\n",
            " -0.11976035 -0.02016622 -0.05992827  0.14676911  0.29574829]\n",
            "\n",
            "Coefficient when alpha is 1.7000000000000002: [ 0.04053901 -0.17911415 -0.02701714  0.00972484 -0.08898656  0.05771549\n",
            " -0.11974499 -0.02022513 -0.05988638  0.14676609  0.29569406]\n",
            "\n",
            "Coefficient when alpha is 1.8: [ 0.04058185 -0.17909516 -0.02698808  0.00974226 -0.08898087  0.05769802\n",
            " -0.11972964 -0.0202839  -0.05984457  0.14676304  0.29563992]\n",
            "\n",
            "Coefficient when alpha is 1.9000000000000001: [ 0.04062456 -0.17907618 -0.02695903  0.00975964 -0.08897518  0.05768056\n",
            " -0.1197143  -0.02034253 -0.05980285  0.14675998  0.29558587]\n",
            "\n",
            "Coefficient when alpha is 2.0: [ 0.04066713 -0.17905721 -0.02692999  0.00977697 -0.0889695   0.05766313\n",
            " -0.11969898 -0.02040103 -0.05976121  0.1467569   0.2955319 ]\n",
            "\n",
            "Coefficient when alpha is 2.1: [ 0.04070956 -0.17903825 -0.02690096  0.00979425 -0.08896383  0.05764571\n",
            " -0.11968368 -0.02045938 -0.05971966  0.1467538   0.29547801]\n",
            "\n",
            "Coefficient when alpha is 2.2: [ 0.04075186 -0.17901931 -0.02687194  0.00981149 -0.08895816  0.0576283\n",
            " -0.11966839 -0.0205176  -0.05967819  0.14675068  0.2954242 ]\n",
            "\n",
            "Coefficient when alpha is 2.3000000000000003: [ 0.04079402 -0.17900038 -0.02684293  0.00982868 -0.0889525   0.05761091\n",
            " -0.11965312 -0.02057569 -0.0596368   0.14674754  0.29537047]\n",
            "\n",
            "Coefficient when alpha is 2.4000000000000004: [ 0.04083605 -0.17898146 -0.02681392  0.00984583 -0.08894684  0.05759354\n",
            " -0.11963786 -0.02063364 -0.0595955   0.14674439  0.29531683]\n",
            "\n",
            "Coefficient when alpha is 2.5: [ 0.04087795 -0.17896255 -0.02678493  0.00986293 -0.08894119  0.05757618\n",
            " -0.11962262 -0.02069145 -0.05955428  0.14674122  0.29526327]\n",
            "\n",
            "Coefficient when alpha is 2.6: [ 0.04091971 -0.17894366 -0.02675595  0.00987998 -0.08893555  0.05755883\n",
            " -0.11960739 -0.02074913 -0.05951314  0.14673803  0.29520979]\n",
            "\n",
            "Coefficient when alpha is 2.7: [ 0.04096134 -0.17892478 -0.02672697  0.00989699 -0.08892991  0.05754151\n",
            " -0.11959218 -0.02080668 -0.05947209  0.14673483  0.29515639]\n",
            "\n",
            "Coefficient when alpha is 2.8000000000000003: [ 0.04100283 -0.17890591 -0.026698    0.00991395 -0.08892428  0.05752419\n",
            " -0.11957698 -0.02086409 -0.05943111  0.1467316   0.29510308]\n",
            "\n",
            "Coefficient when alpha is 2.9000000000000004: [ 0.0410442  -0.17888705 -0.02666905  0.00993087 -0.08891866  0.0575069\n",
            " -0.1195618  -0.02092137 -0.05939022  0.14672836  0.29504984]\n",
            "\n"
          ]
        },
        {
          "output_type": "display_data",
          "data": {
            "text/plain": [
              "<Figure size 1008x576 with 1 Axes>"
            ],
            "image/png": "[encoded data removed]"
          },
          "metadata": {
            "needs_background": "light"
          }
        }
      ]
    },
    {
      "cell_type": "markdown",
      "source": [
        "## Linear Regression with Elastic Regularization"
      ],
      "metadata": {
        "id": "bEIbWcnaIZzY"
      }
    },
    {
      "cell_type": "code",
      "source": [
        "def elastic_net_model(lambdas):\n",
        "  training_errors = [] # we will store the error on the training set, for using each different lambda\n",
        "  testing_errors = [] # and the error on the testing set\n",
        "\n",
        "  for l in lambdas:\n",
        "    # in sklearn, they refer to lambda as alpha, the name is different in different literature\n",
        "    # Model is Elastic Net\n",
        "    model = ElasticNet(alpha=l, max_iter=1000) # we allow max number of iterations until the model converges\n",
        "    model.fit(X_train_normalized, y_train)\n",
        "\n",
        "    training_predictions = model.predict(X_train_normalized)\n",
        "    training_mse = mean_squared_error(y_train, training_predictions)\n",
        "    training_errors.append(training_mse)\n",
        "\n",
        "    testing_predictions = model.predict(X_test_normalized)\n",
        "    testing_mse = mean_squared_error(y_test, testing_predictions)\n",
        "    testing_errors.append(testing_mse)\n",
        "\n",
        "    print(f'Coefficient when alpha is {l}: {model.coef_}\\n')\n",
        "\n",
        "  return training_errors, testing_errors\n",
        "\n",
        "# let's generate different values for lambda/alpha\n",
        "lambdas = np.arange(0.01, 1.0, step=0.1)\n",
        "\n",
        "elastic_train, elastic_test = elastic_net_model(lambdas)\n",
        "plot_errors(lambdas, elastic_train, elastic_test, \"Elastic Net\")"
      ],
      "metadata": {
        "colab": {
          "base_uri": "https://localhost:8080/",
          "height": 1000
        },
        "id": "Z01IoL3oIhz8",
        "outputId": "f36bfe1f-6f77-43c7-b89b-8a2087932c23"
      },
      "execution_count": null,
      "outputs": [
        {
          "output_type": "stream",
          "name": "stdout",
          "text": [
            "Coefficient when alpha is 0.01: [ 0.01085668 -0.17075537 -0.00130282  0.         -0.08553983  0.04590503\n",
            " -0.10995664 -0.         -0.05712563  0.13706456  0.29929705]\n",
            "\n",
            "Coefficient when alpha is 0.11: [ 0.00383387 -0.16304457  0.         -0.         -0.0062555  -0.\n",
            " -0.03431819 -0.         -0.          0.07124129  0.26171957]\n",
            "\n",
            "Coefficient when alpha is 0.21000000000000002: [ 0.         -0.13147328  0.         -0.         -0.         -0.\n",
            " -0.         -0.         -0.          0.03074493  0.22227175]\n",
            "\n",
            "Coefficient when alpha is 0.31000000000000005: [ 0.         -0.09761105  0.         -0.         -0.         -0.\n",
            " -0.         -0.         -0.          0.          0.17812499]\n",
            "\n",
            "Coefficient when alpha is 0.41000000000000003: [ 0.         -0.05943447  0.         -0.         -0.         -0.\n",
            " -0.         -0.         -0.          0.          0.13590136]\n",
            "\n",
            "Coefficient when alpha is 0.51: [ 0.         -0.02380768  0.          0.         -0.         -0.\n",
            " -0.         -0.         -0.          0.          0.09661499]\n",
            "\n",
            "Coefficient when alpha is 0.6100000000000001: [ 0.         -0.          0.          0.         -0.         -0.\n",
            " -0.         -0.         -0.          0.          0.05843484]\n",
            "\n",
            "Coefficient when alpha is 0.7100000000000001: [ 0.         -0.          0.          0.         -0.         -0.\n",
            " -0.         -0.         -0.          0.          0.01937821]\n",
            "\n",
            "Coefficient when alpha is 0.81: [ 0. -0.  0.  0. -0. -0. -0. -0. -0.  0.  0.]\n",
            "\n",
            "Coefficient when alpha is 0.91: [ 0. -0.  0.  0. -0. -0. -0. -0. -0.  0.  0.]\n",
            "\n"
          ]
        },
        {
          "output_type": "display_data",
          "data": {
            "text/plain": [
              "<Figure size 1008x576 with 1 Axes>"
            ],
            "image/png": "[encoded data removed]"
          },
          "metadata": {
            "needs_background": "light"
          }
        }
      ]
    },
    {
      "cell_type": "markdown",
      "source": [
        "## Support Vector Regression"
      ],
      "metadata": {
        "id": "8S-PTLpkjSs8"
      }
    },
    {
      "cell_type": "code",
      "source": [
        "# Support Vector Regression (SVR) model\n",
        "regressor = SVR(kernel='rbf', C=10)\n",
        "regressor.fit(X_train_normalized, y_train)\n",
        "\n",
        "y_pred = regressor.predict(X_test_normalized)\n",
        "\n",
        "# RMSE (Root Mean Squared Error) and Mean Squared Error\n",
        "rmse = float(np.sqrt(mean_squared_error(y_test, y_pred)))\n",
        "mse = float(mean_squared_error(y_test, y_pred))\n",
        "print(f'\\nRMSE: {rmse:.4f}\\nMSE: {mse:.4f}')"
      ],
      "metadata": {
        "colab": {
          "base_uri": "https://localhost:8080/"
        },
        "id": "cgUtw7e5jZON",
        "outputId": "42a09f53-05da-4d78-ddc8-e05a311691e3"
      },
      "execution_count": null,
      "outputs": [
        {
          "output_type": "stream",
          "name": "stdout",
          "text": [
            "\n",
            "RMSE: 0.6034\n",
            "MSE: 0.3641\n"
          ]
        }
      ]
    }
  ]
}